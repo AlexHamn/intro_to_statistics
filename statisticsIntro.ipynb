{
 "cells": [
  {
   "cell_type": "markdown",
   "metadata": {},
   "source": [
    "## Basic Statistics\n",
    "\n",
    "Three significant events triggered the current growth in the use of analytical devision making and *Statistics is central to all of them*.\n",
    "\n",
    "The objective of modern statistics is to interpret data received *as is*.\n",
    "\n",
    "We must create impactfull data visualization.\n",
    "\n",
    "**Big data:** \n",
    "\n",
    "A set of data that cannot be managed, processed, or analyzed with traditional software/algorithms within a reasonable amount of time.\n",
    "\n",
    "Big data revolves around *Volume Velocity Variety Value Veracity*"
   ]
  },
  {
   "cell_type": "markdown",
   "metadata": {},
   "source": [
    "## Statistical Methods\n",
    "\n",
    "What are the methods developed by Statistics?\n",
    "\n",
    "We will explore them in a business drivene xample, note that statistics are applied to a lot of different areas, but business are an easy to understand example.\n",
    "\n",
    "### Clasification\n",
    "\n",
    "- *Clasification* techniques helps in segmenting the customers into appropiate groups on key characteristics(sentiment, money spent, time of patronage, etc).\n",
    "- Classification helps professionals understand the customer behavior and position their products and brands using appropiate strategies.\n",
    "\n",
    "### Pattern recognition\n",
    "\n",
    "- Pattern recognition techniques helps us to reveal hidden patterns or *data forms* in the data set that could be everaged by retail professionals. Pattern recognition techniques include *Histogram, Box Plot, Scatter Plot* and other *Visual Analytics*.\n",
    "\n",
    "### Association\n",
    "\n",
    "The relationship between variables. *Association Analysis* helps in determining the correlation  between variabbles, this relationship may not always be perfectly clear, so we go for stating the *probability* of something being related. For example, market basket analysis may lead to a finding that if customers buy coffee, there is a __40% probability__ that they also buy bread.\n",
    "\n",
    "### Predictive Modeling\n",
    "\n",
    "Identifying and targeting the most profitable customers can be facilitated by predictive models.\n",
    "\n",
    "Regression can be used for predicting the amount of expenditure on a particular product based on input variables(income, age, gender, etc.).Organizations can leverage on other advanced models that comprise *Logistic regression*, and *Neural Networks* for predicting a target variable as well as classifying and predicting into which group the consumer belongs to. For example, these models can classify and predict buyers and non-buyers."
   ]
  },
  {
   "cell_type": "markdown",
   "metadata": {},
   "source": [
    "## Types of statistics\n",
    "\n",
    "In the past we thought of statystics as methods to identufy the *causes* of events.\n",
    "\n",
    "Nowdays, we view statystics as the use of data and quantitative analysis for *decission making* within organizations.\n",
    "\n",
    "### There are two types of statystics:\n",
    "\n",
    "- #### Descriptive statystics: \n",
    "  Basically *describes* what the data *has been*. It is concerned with *data summarization*(graphs, charts, tables, etc).\n",
    "\n",
    "- #### Inferential statistics:\n",
    "  Basically *inferes* what the data *might have been or might become*.\n",
    "  "
   ]
  },
  {
   "cell_type": "markdown",
   "metadata": {},
   "source": []
  }
 ],
 "metadata": {
  "interpreter": {
   "hash": "916dbcbb3f70747c44a77c7bcd40155683ae19c65e1c03b4aa3499c5328201f1"
  },
  "kernelspec": {
   "display_name": "Python 3.8.10 64-bit",
   "language": "python",
   "name": "python3"
  },
  "language_info": {
   "name": "python",
   "version": "3.8.10"
  },
  "orig_nbformat": 4
 },
 "nbformat": 4,
 "nbformat_minor": 2
}
