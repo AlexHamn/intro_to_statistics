{
 "cells": [
  {
   "cell_type": "markdown",
   "metadata": {},
   "source": [
    "## Basic Statistics\n",
    "\n",
    "Three significant events triggered the current growth in the use of analytical devision making and *Statistics is central to all of them*.\n",
    "\n",
    "The objective of modern statistics is to interpret data received *as is*.\n",
    "\n",
    "We must create impactfull data visualization.\n",
    "\n",
    "**Big data:** \n",
    "\n",
    "A set of data that cannot be managed, processed, or analyzed with traditional software/algorithms within a reasonable amount of time.\n",
    "\n",
    "Big data revolves around *Volume Velocity Variety Value Veracity*"
   ]
  },
  {
   "cell_type": "markdown",
   "metadata": {},
   "source": [
    "## Statistical Methods\n",
    "\n",
    "What are the methods developed by Statistics?\n",
    "\n",
    "We will explore them in a business drivene xample, note that statistics are applied to a lot of different areas, but business are an easy to understand example.\n",
    "\n",
    "### Clasification\n",
    "\n",
    "- *Clasification* techniques helps in segmenting the customers into appropiate groups on key characteristics(sentiment, money spent, time of patronage, etc).\n",
    "- Classification helps professionals understand the customer behavior and position their products and brands using appropiate strategies.\n",
    "\n",
    "### Pattern recognition\n",
    "\n",
    "- Pattern recognition techniques helps us to reveal hidden patterns or *data forms* in the data set that could be everaged by retail professionals. Pattern recognition techniques include *Histogram, Box Plot, Scatter Plot* and other *Visual Analytics*.\n",
    "\n",
    "### Association\n",
    "\n",
    "The relationship between variables. *Association Analysis* helps in determining the correlation  between variabbles, this relationship may not always be perfectly clear, so we go for stating the *probability* of something being related. For example, market basket analysis may lead to a finding that if customers buy coffee, there is a __40% probability__ that they also buy bread.\n",
    "\n",
    "### Predictive Modeling\n",
    "\n",
    "Identifying and targeting the most profitable customers can be facilitated by predictive models.\n",
    "\n",
    "Regression can be used for predicting the amount of expenditure on a particular product based on input variables(income, age, gender, etc.).Organizations can leverage on other advanced models that comprise *Logistic regression*, and *Neural Networks* for predicting a target variable as well as classifying and predicting into which group the consumer belongs to. For example, these models can classify and predict buyers and non-buyers."
   ]
  },
  {
   "cell_type": "markdown",
   "metadata": {},
   "source": [
    "## Types of statistics\n",
    "\n",
    "In the past we thought of statystics as methods to identufy the *causes* of events.\n",
    "\n",
    "Nowdays, we view statystics as the use of data and quantitative analysis for *decission making* within organizations.\n",
    "\n",
    "### There are two types of statystics:\n",
    "\n",
    "- #### Descriptive statystics: \n",
    "  Basically *describes* what the data *has been*. It is concerned with *data summarization*(graphs, charts, tables, etc).\n",
    "</br>\n",
    "</br>\n",
    "</br>\n",
    "\n",
    "- #### Inferential statistics:\n",
    "  Basically *inferes* what the data *might have been or might become*.  "
   ]
  },
  {
   "cell_type": "markdown",
   "metadata": {},
   "source": [
    "## Vital terms in statistics\n",
    "\n",
    "### Population\n",
    "\n",
    "A population is the universe of possible data for a specified object, e.g., people who have visited or will visit a website.\n",
    "\n",
    "**The population is *not observed* and in many cases, it can not be observed.**\n",
    "\n",
    "Our dataset is the piece of the population that we can study to infere information about the population and try to predict the *future data*.\n",
    "\n",
    "### Parameter\n",
    "\n",
    "A parameter is a numerical value associated with a population, e.g., the average amount of time people spend on a website.\n",
    "\n",
    "**Parameters are also *not observed*.**\n",
    "\n",
    "### Sample\n",
    "\n",
    "A sample is a selection of observations from a population, e.g., people(or IP adresses) who visited a website on a specific day. **Samples *are observed*** meaning that they are a portion of the population we can analyze and disect, **a sample is not the population**, and it is not what we are interested in, however, through our observations on the sample, we can *infere* information about the population.\n",
    "\n",
    "### Statistic\n",
    "\n",
    "A statistic is a numerical value associated with an observed sample, e.g., the average amount of time people spent on a website on a specific day. **Statistics *are observed***, and the values we obtain from our statistical calculations on the samples, help us infere the *parameters* of the *population*.\n",
    "\n",
    "****\n",
    "\n",
    "So, the statistical problem is to go from the observed to the not observed, to go from the sample to the population, because the object we are interested in is not the *statistic*, it's the *parameter*, and the universe we're interested in is not the *sample*, it's the *population*. Even now that we can grab all the current population as our sample, we are not observing the population, because we still have to extrapolate the info we infere from our sample to the future of the population. So, even if we are observing the entirety of the (current) population, it still is useful to think of our data as a sample, so that our conclusions remain relevant outsite of the secific numbers we sampled."
   ]
  }
 ],
 "metadata": {
  "interpreter": {
   "hash": "916dbcbb3f70747c44a77c7bcd40155683ae19c65e1c03b4aa3499c5328201f1"
  },
  "kernelspec": {
   "display_name": "Python 3.8.10 64-bit",
   "language": "python",
   "name": "python3"
  },
  "language_info": {
   "name": "python",
   "version": "3.8.10"
  },
  "orig_nbformat": 4
 },
 "nbformat": 4,
 "nbformat_minor": 2
}
