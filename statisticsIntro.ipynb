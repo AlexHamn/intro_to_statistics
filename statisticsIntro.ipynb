{
 "cells": [
  {
   "cell_type": "markdown",
   "metadata": {},
   "source": [
    "## Basic Statistics\n",
    "\n",
    "Three significant events triggered the current growth in the use of analytical devision making and *Statistics is central to all of them*.\n",
    "\n",
    "The objective of modern statistics is to interpret data received *as is*.\n",
    "\n",
    "We must create impactfull data visualization.\n",
    "\n",
    "**Big data:** \n",
    "\n",
    "A set of data that cannot be managed, processed, or analyzed with traditional software/algorithms within a reasonable amount of time.\n",
    "\n",
    "Big data revolves around *Volume Velocity Variety Value Veracity*\n",
    "\n"
   ]
  }
 ],
 "metadata": {
  "interpreter": {
   "hash": "916dbcbb3f70747c44a77c7bcd40155683ae19c65e1c03b4aa3499c5328201f1"
  },
  "kernelspec": {
   "display_name": "Python 3.8.10 64-bit",
   "language": "python",
   "name": "python3"
  },
  "language_info": {
   "name": "python",
   "version": "3.8.10"
  },
  "orig_nbformat": 4
 },
 "nbformat": 4,
 "nbformat_minor": 2
}
