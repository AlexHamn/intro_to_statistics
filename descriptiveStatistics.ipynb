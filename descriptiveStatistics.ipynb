{
 "cells": [
  {
   "cell_type": "markdown",
   "metadata": {},
   "source": [
    "# Descriptive statistics"
   ]
  },
  {
   "cell_type": "markdown",
   "metadata": {},
   "source": [
    "Data is only partly informative, to get meanig out off data, we need to arrange it to figure oput the *information* in data and therefore drawthe right conclussion. \n",
    "\n",
    "Raw data by itself is not informative, it needs to be converted into uinformation that we can process.\n",
    "\n",
    "Descriptive statistics is the transition from data to infoprmation.\n",
    "\n",
    "<img src=\"./media/data_to_wisdom.png\" width=400 height=400/>"
   ]
  },
  {
   "cell_type": "markdown",
   "metadata": {},
   "source": [
    "## Frequency distribution\n",
    "\n",
    "*Frequency distribution* is a sumarized table in which raw data are arranged into *classes* and *frequencies*.\n",
    "\n",
    "Frequency distribution focuses on clasyfying raw data into information, It is a widely used data reduction technique in descriptive analysis.\n",
    "\n",
    "### Histogram\n",
    "\n",
    "A *histogram* (also known as a frequency histogram) is a snapshot of the frequency distribution. It's a graphical representation of the frequency distribution in which the X-axis represents the classes and the Y-axis represents the frequencies in bars.The histogram depicts the pattern of the distribution emerging fron the characterisic being measured.\n",
    "\n",
    "<img src=\"./media/histograms.png\" width=400 height=400/>\n",
    "\n",
    "### Cumulative frequency dstribution\n",
    "\n",
    "A type of frequency distribution that shows how namy observations are above or below the lower boundaries of the classes.\n",
    "\n",
    "<img src=\"./media/cumulative_frequency_distribution.png\" height=400/>\n",
    "\n",
    "The cumulative frequency dstribution table leads to a *cumulative distribution function*[<sup>1</sup>](#fn1) which is a graph that tracks *how many opbservations are less than or equal to a certain number*, therefore, this distribution tells us how rapidly data is accumulating.\n",
    "\n",
    "<img src=\"./media/cumulative_distribution.png\" height=400/>"
   ]
  },
  {
   "cell_type": "markdown",
   "metadata": {},
   "source": [
    "## Footnotes\n",
    "\n",
    "<span id=\"fn1\"><sup>1</sup>Cumulative distribution functions were previously known as \"Ogive curves\"</span></br>"
   ]
  }
 ],
 "metadata": {
  "interpreter": {
   "hash": "916dbcbb3f70747c44a77c7bcd40155683ae19c65e1c03b4aa3499c5328201f1"
  },
  "kernelspec": {
   "display_name": "Python 3.8.10 64-bit",
   "language": "python",
   "name": "python3"
  },
  "language_info": {
   "name": "python",
   "version": "3.8.10"
  },
  "orig_nbformat": 4
 },
 "nbformat": 4,
 "nbformat_minor": 2
}
