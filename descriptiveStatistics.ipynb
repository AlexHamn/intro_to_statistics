{
 "cells": [
  {
   "cell_type": "markdown",
   "metadata": {},
   "source": [
    "# Descriptive statistics"
   ]
  },
  {
   "cell_type": "markdown",
   "metadata": {},
   "source": [
    "Data is only partly informative, to get meanig out off data, we need to arrange it to figure oput the *information* in data and therefore drawthe right conclussion. \n",
    "\n",
    "Raw data by itself is not informative, it needs to be converted into uinformation that we can process.\n",
    "\n",
    "Descriptive statistics is the transition from data to infoprmation.\n",
    "\n",
    "<img src=\"./media/data_to_wisdom.png\" width=400 height=400/>"
   ]
  },
  {
   "cell_type": "markdown",
   "metadata": {},
   "source": [
    "## Frequency distribution\n",
    "\n",
    "*Frequency distribution* is a sumarized table in which raw data are arranged into *classes* and *frequencies*.\n",
    "\n",
    "Frequency distribution focuses on clasyfying raw data into information, It is a widely used data reduction technique in descriptive analysis.\n",
    "\n",
    "### Histogram\n",
    "\n",
    "A *histogram* (also known as a frequency histogram) is a snapshot of the frequency distribution. It's a graphical representation of the frequency distribution in which the X-axis represents the classes and the Y-axis represents the frequencies in bars.The histogram depicts the pattern of the distribution emerging fron the characterisic being measured.\n",
    "\n",
    "<img src=\"./media/histograms.png\" width=400 height=400/>\n",
    "\n",
    "### Cumulative frequency dstribution\n",
    "\n",
    "A type of frequency distribution that shows how namy observations are above or below the lower boundaries of the classes.\n",
    "\n",
    "<img src=\"./media/cumulative_frequency_distribution.png\" height=400/>\n",
    "\n",
    "The cumulative frequency dstribution table leads to a *cumulative distribution function*[<sup>1</sup>](#fn1) which is a graph that tracks *how many opbservations are less than or equal to a certain number*, therefore, this distribution tells us how rapidly data is accumulating.\n",
    "\n",
    "<img src=\"./media/cumulative_distribution.png\" height=400/>"
   ]
  },
  {
   "cell_type": "markdown",
   "metadata": {},
   "source": [
    "## Central Tendency and 3 Ms\n",
    "### What is central tendency?\n",
    "Whenever we measure things of the same kind, a fairly large number of such measurements will tend to cluster around the middle value. Such a value is called a measure of *\"Central Tendency\"*[<sup>2</sup>](#fn2).\n",
    "\n",
    "Central tendency gives us a notion of the cventer of the distribution, or *the central tendency of the data*.(not necesarily averages)\n",
    "***\n",
    "### Arithmetic Mean\n",
    "Arithmetic mean(also \"mean\" or *\"average\"*) is defined as te sum of all observations.\n",
    "\n",
    "In symbolic form, mean is given by:\n",
    "$\\overline{x}=\\frac{\\sum X}{n}$ </br>\n",
    "Where:</br>\n",
    "$\\overline{x}$ = Arithmetic mean.</br>\n",
    "$\\sum X$ = The sum of all $X$ values in the data set.</br>\n",
    "$n$ = The total number of observations(sample size).</br>\n",
    "#### Arithmetic Mean example\n",
    "The inner diameter of a particular grade of tire based on 5 sample measurements are as follows(figures in milimeters):</br>\n",
    "565, 570, 572, 568, 585</br>\n",
    "Applying the formula</br>\n",
    "$\\overline{x}=\\frac{\\sum X}{n}$ </br>\n",
    "$mean = \\frac{(565+570+572+568+585)}{5}=572$\n",
    "\n",
    "> **Caution**: Arithmetic Mean is affecxted by extrene values or fluctuations in sampling. It is not the best average to use when the data set contains extrene values.\n",
    "\n",
    "### Median\n",
    "The Median is the *middle most observation* when you arrange data in *ascending order of magnitude*. Median is such taht 50% of the observations are above the median, and 50% of the observations are below the median.\n",
    "\n",
    "Median is a very useful measure for ranked data in the contexzt of consumer preferences and rating. It os not affected by extreme values(grateer resistancce to outliers).\n",
    "\n",
    "If we have an uneven nuber of observations, the symbolic form of the median is:</br>\n",
    "$median=\\frac{n+1}{2}$</br>\n",
    "Where:</br>\n",
    "$n$ = The number of observations in the sample.\n",
    "\n",
    "On the other hand, if we have an uneven nuber of observations, we take the average of the two middle values.\n",
    "\n",
    "#### Median example\n",
    "Compute the median of the marks obtained by 7 students in an exam:\n",
    "\n",
    "[45, 40, 60, 80, 90, 65, 55]\n",
    "\n",
    "1. Arrange the data:\n",
    "\n",
    "[40, 45, 55, 60, 65, 80, 90]\n",
    "\n",
    "2. $median=\\frac{n+1}{2}=\\frac{7+1}{2}=4^{th}=60$\n",
    "\n",
    "### Mode\n",
    "The Mode is the value which occurs most often. It has the *maximum frequency* of occurence. Mode also has resistance to outliers, e.g., when you want to keep in the inventory the *most popular* shirt in terms of collar size during festive season.\n",
    "\n",
    "#### Mode example\n",
    "Find the mode of the number of life hours of 10 batteries:\n",
    "\n",
    "[340, 350, 340, 340, 320, 340, 330, 330, 340, 350]\n",
    "\n",
    "1. $340$ occurs five times, Hence, $mode=340$\n",
    "\n",
    "***\n",
    "\n",
    "### Comparison of Mean, Median, Mode\n",
    "\n",
    "|Mean|Median|Mode|\n",
    "|---|---|---|\n",
    "|Defined as the arithmetic average of all bservations in the dataset.|Defined as the middle value in the data set5 arranfed in ascending or descending order.|Defined as the most reqiently occuring value in the distribution; it has teh largest frwquency.|\n",
    "|Requires measurements on all observations.|Does not require measurements on all observations.|Does not require measurements on all observations.|\n",
    "|Uniquely and comprehensively defined.|Cannot be uniquely determined under all conditions(if $n$ is evn).|Not uniquely defined for multi-modal situations(*if there are multiple observations with the same count*).|\n",
    "|Affected by extreme values(*less stable results*).|Not affected by extreme values(*more stable results*).|Not affected by extreme values(*more stable results*).|\n",
    "|Can be treated algebraically($mean$ of several groups can be combined).|Cannot be treated algebraically($median$ of several groups vannot be combined).|Cannot be treated algebraically($mode$ of several groups cannot be combined).|"
   ]
  },
  {
   "cell_type": "markdown",
   "metadata": {},
   "source": [
    "## Footnotes\n",
    "\n",
    "<span id=\"fn1\"><sup>1</sup>Cumulative distribution functions were previously known as \"Ogive curves\"</span></br>\n",
    "<span id=\"fn2\"><sup>2</sup>Also known as \"Measures of location\" or \"Statistical averages\"</span></br>"
   ]
  }
 ],
 "metadata": {
  "interpreter": {
   "hash": "916dbcbb3f70747c44a77c7bcd40155683ae19c65e1c03b4aa3499c5328201f1"
  },
  "kernelspec": {
   "display_name": "Python 3.8.10 64-bit",
   "language": "python",
   "name": "python3"
  },
  "language_info": {
   "name": "python",
   "version": "3.8.10"
  },
  "orig_nbformat": 4
 },
 "nbformat": 4,
 "nbformat_minor": 2
}
